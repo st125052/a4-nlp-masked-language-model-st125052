{
 "cells": [
  {
   "cell_type": "code",
   "execution_count": 1,
   "metadata": {},
   "outputs": [],
   "source": [
    "import torch\n",
    "import torch.nn.functional as F\n",
    "from transformers import BertTokenizer\n",
    "\n",
    "import sys\n",
    "import os\n",
    "sys.path.append(os.path.abspath('../..'))\n",
    "\n",
    "from app.classes.all_classes import *"
   ]
  },
  {
   "cell_type": "code",
   "execution_count": 2,
   "metadata": {},
   "outputs": [
    {
     "data": {
      "text/plain": [
       "device(type='cuda')"
      ]
     },
     "execution_count": 2,
     "metadata": {},
     "output_type": "execute_result"
    }
   ],
   "source": [
    "device = torch.device(\"cuda\" if torch.cuda.is_available() else \"cpu\")\n",
    "device"
   ]
  },
  {
   "cell_type": "code",
   "execution_count": 3,
   "metadata": {},
   "outputs": [
    {
     "name": "stderr",
     "output_type": "stream",
     "text": [
      "C:\\Users\\swara\\AppData\\Local\\Temp\\ipykernel_35880\\674960470.py:2: FutureWarning: You are using `torch.load` with `weights_only=False` (the current default value), which uses the default pickle module implicitly. It is possible to construct malicious pickle data which will execute arbitrary code during unpickling (See https://github.com/pytorch/pytorch/blob/main/SECURITY.md#untrusted-models for more details). In a future release, the default value for `weights_only` will be flipped to `True`. This limits the functions that could be executed during unpickling. Arbitrary objects will no longer be allowed to be loaded via this mode unless they are explicitly allowlisted by the user via `torch.serialization.add_safe_globals`. We recommend you start setting `weights_only=True` for any use case where you don't have full control of the loaded file. Please open an issue on GitHub for any issues related to this experimental feature.\n",
      "  classifier_head = torch.load(f)\n",
      "C:\\Users\\swara\\AppData\\Local\\Temp\\ipykernel_35880\\674960470.py:5: FutureWarning: You are using `torch.load` with `weights_only=False` (the current default value), which uses the default pickle module implicitly. It is possible to construct malicious pickle data which will execute arbitrary code during unpickling (See https://github.com/pytorch/pytorch/blob/main/SECURITY.md#untrusted-models for more details). In a future release, the default value for `weights_only` will be flipped to `True`. This limits the functions that could be executed during unpickling. Arbitrary objects will no longer be allowed to be loaded via this mode unless they are explicitly allowlisted by the user via `torch.serialization.add_safe_globals`. We recommend you start setting `weights_only=True` for any use case where you don't have full control of the loaded file. Please open an issue on GitHub for any issues related to this experimental feature.\n",
      "  tokenizer = torch.load(f)\n",
      "C:\\Users\\swara\\AppData\\Local\\Temp\\ipykernel_35880\\674960470.py:8: FutureWarning: You are using `torch.load` with `weights_only=False` (the current default value), which uses the default pickle module implicitly. It is possible to construct malicious pickle data which will execute arbitrary code during unpickling (See https://github.com/pytorch/pytorch/blob/main/SECURITY.md#untrusted-models for more details). In a future release, the default value for `weights_only` will be flipped to `True`. This limits the functions that could be executed during unpickling. Arbitrary objects will no longer be allowed to be loaded via this mode unless they are explicitly allowlisted by the user via `torch.serialization.add_safe_globals`. We recommend you start setting `weights_only=True` for any use case where you don't have full control of the loaded file. Please open an issue on GitHub for any issues related to this experimental feature.\n",
      "  bert = torch.load(f)\n"
     ]
    }
   ],
   "source": [
    "with open(\"../../app/helper/classifier_head.pkl\", 'rb') as f:\n",
    "    classifier_head = torch.load(f)\n",
    "\n",
    "with open(\"../../app/helper/tokenizer.pkl\", 'rb') as f:\n",
    "    tokenizer = torch.load(f)\n",
    "\n",
    "with open(\"../../app/models/BERT/model.pkl\", 'rb') as f:\n",
    "    bert = torch.load(f)"
   ]
  },
  {
   "cell_type": "code",
   "execution_count": 4,
   "metadata": {},
   "outputs": [],
   "source": [
    "# define mean pooling function\n",
    "def mean_pool(token_embeds, attention_mask):\n",
    "    # reshape attention_mask to cover 768-dimension embeddings\n",
    "    in_mask = attention_mask.unsqueeze(-1).expand(\n",
    "        token_embeds.size()\n",
    "    ).float()\n",
    "    # perform mean-pooling but exclude padding tokens (specified by in_mask)\n",
    "    pool = torch.sum(token_embeds * in_mask, 1) / torch.clamp(\n",
    "        in_mask.sum(1), min=1e-9\n",
    "    )\n",
    "    return pool"
   ]
  },
  {
   "cell_type": "code",
   "execution_count": 5,
   "metadata": {},
   "outputs": [
    {
     "name": "stdout",
     "output_type": "stream",
     "text": [
      "Predicted Class: contradiction\n",
      "Class Probabilities: [[9.9814522e-01 2.6594464e-06 1.8521816e-03]]\n",
      "Cosine Similarity: 0.9887\n"
     ]
    }
   ],
   "source": [
    "from sklearn.metrics.pairwise import cosine_similarity\n",
    "\n",
    "def predict_nli_class_with_similarity(model, classifier_head, premise, hypothesis, tokenizer, device):\n",
    "    # Tokenize and convert to input IDs and attention masks\n",
    "    inputs_a = tokenizer(premise, return_tensors='pt', truncation=True, padding=True).to(device)\n",
    "    inputs_b = tokenizer(hypothesis, return_tensors='pt', truncation=True, padding=True).to(device)\n",
    "    \n",
    "    inputs_ids_a = inputs_a['input_ids']\n",
    "    attention_a = inputs_a['attention_mask']\n",
    "    inputs_ids_b = inputs_b['input_ids']\n",
    "    attention_b = inputs_b['attention_mask']\n",
    "    \n",
    "    segment_ids_a = torch.zeros_like(inputs_ids_a).to(device)\n",
    "    segment_ids_b = torch.zeros_like(inputs_ids_b).to(device)\n",
    "    \n",
    "    # Get BERT embeddings\n",
    "    with torch.no_grad():\n",
    "        u_last_hidden_state = model.get_last_hidden_state(inputs_ids_a, segment_ids_a).to(device)\n",
    "        v_last_hidden_state = model.get_last_hidden_state(inputs_ids_b, segment_ids_b).to(device)\n",
    "    \n",
    "    # Mean-pooling\n",
    "    u_mean_pool = mean_pool(u_last_hidden_state, attention_a).detach().cpu().numpy()\n",
    "    v_mean_pool = mean_pool(v_last_hidden_state, attention_b).detach().cpu().numpy()\n",
    "    \n",
    "    # Create the feature vector for classification\n",
    "    uv_abs = torch.abs(torch.sub(torch.tensor(u_mean_pool).to(device), torch.tensor(v_mean_pool).to(device)))\n",
    "    x = torch.cat([torch.tensor(u_mean_pool).to(device), torch.tensor(v_mean_pool).to(device), uv_abs], dim=-1)\n",
    "    \n",
    "    # Get logits from the classifier head\n",
    "    logits = classifier_head(x)\n",
    "    \n",
    "    # Compute class probabilities\n",
    "    probs = F.softmax(logits, dim=-1)\n",
    "    \n",
    "    # Map probabilities to classes\n",
    "    class_labels = ['contradiction', 'neutral', 'entailment']\n",
    "    predicted_class = class_labels[torch.argmax(probs).item()]\n",
    "    \n",
    "    # Calculate cosine similarity\n",
    "    cosine_sim = cosine_similarity(u_mean_pool.reshape(1, -1), v_mean_pool.reshape(1, -1))[0, 0]\n",
    "    \n",
    "    return {\n",
    "        'predicted_class': predicted_class,\n",
    "        'class_probabilities': probs.detach().cpu().numpy(),\n",
    "        'cosine_similarity': cosine_sim\n",
    "    }\n",
    "\n",
    "# Example Usage\n",
    "premise = \"A man is playing a guitar on stage.\"\n",
    "hypothesis = \"The man is performing music.\"\n",
    "result = predict_nli_class_with_similarity(bert, classifier_head, premise, hypothesis, tokenizer, device)\n",
    "predicted_class = result['predicted_class']\n",
    "probabilities = result['class_probabilities']\n",
    "cosine_sim = result['cosine_similarity']\n",
    "\n",
    "print (f\"Predicted Class: {predicted_class}\", f\"Class Probabilities: {probabilities}\", f\"Cosine Similarity: {cosine_sim:.4f}\", sep='\\n')"
   ]
  }
 ],
 "metadata": {
  "kernelspec": {
   "display_name": "base",
   "language": "python",
   "name": "python3"
  },
  "language_info": {
   "codemirror_mode": {
    "name": "ipython",
    "version": 3
   },
   "file_extension": ".py",
   "mimetype": "text/x-python",
   "name": "python",
   "nbconvert_exporter": "python",
   "pygments_lexer": "ipython3",
   "version": "3.12.3"
  }
 },
 "nbformat": 4,
 "nbformat_minor": 2
}
